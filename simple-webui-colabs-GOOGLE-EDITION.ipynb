{
  "cells": [
    {
      "cell_type": "markdown",
      "metadata": {
        "id": "fhwIXzcgfkoR"
      },
      "source": [
        "# 📦 My repo, please check for new updates before running, I sometimes entirely replace the .ipynb: [Click Here](https://github.com/HyperLemons/fastest-stablediffusion-collab-webui)\n",
        "\n",
        "# 📦 Nolan Aatama's Repo (does not contain my changes but has a looooot of models with links to copy from): [Github](https://github.com/nolanaatama/sd-1click-colab)"
      ]
    },
    {
      "cell_type": "markdown",
      "metadata": {
        "id": "AW_pmoYr3dRd"
      },
      "source": [
        "❗❗❗ Make sure to copy to your Drive or none of your changes will save!!! ❗❗❗"
      ]
    },
    {
      "cell_type": "markdown",
      "metadata": {
        "id": "uyhbv28CHffA"
      },
      "source": [
        "Please read each comment carefully (the sentences that start with the #). I assure you by the time you are finished you will understand how simple this is and how simple it is to run this each time."
      ]
    },
    {
      "cell_type": "markdown",
      "metadata": {
        "id": "P59DuYifJWbT"
      },
      "source": [
        "Create a new folder in your Google Drive called \"for_webui_colab\", then upload your desiried ui-config.json and config.json. You will only have to do this once.\n",
        "\n",
        "![asdasd.PNG](data:image/png;base64,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)"
      ]
    },
    {
      "cell_type": "code",
      "execution_count": null,
      "metadata": {
        "colab": {
          "background_save": true
        },
        "id": "sBbcB4vwj_jm"
      },
      "outputs": [],
      "source": [
        "# installing the webui (DO NOT CHANGE UNLESS YOU KNOW WHAT YOU ARE DOING!!!)\n",
        "!git clone https://github.com/AUTOMATIC1111/stable-diffusion-webui\n",
        "\n",
        "# installing image browser extension\n",
        "!git clone https://github.com/yfszzx/stable-diffusion-webui-images-browser /content/stable-diffusion-webui/extensions/stable-diffusion-webui-images-browser\n",
        "\n",
        "# installing booru autotag extension\n",
        "!git clone https://github.com/DominikDoom/a1111-sd-webui-tagcomplete.git /content/stable-diffusion-webui/extensions/tag-autocomplete\n",
        "\n",
        "# installing booru2prompt extension\n",
        "!git clone https://github.com/Malisius/booru2prompt.git /content/stable-diffusion-webui/extensions/booru2prompt\n",
        "\n",
        "# installing citvitai browser extension\n",
        "!git clone https://github.com/etherealxx/sd-civitai-browser.git /content/stable-diffusion-webui/extensions/sd-civitai-browser\n",
        "\n",
        "# you can add more extensions with !git clone and following the format for the folders above!\n",
        "\n",
        "\n",
        "\n",
        "# installing xformers\n",
        "%pip install -q https://github.com/nolanaatama/sd-webui/releases/download/xformers/xformers-0.0.15+e163309.d20230103-cp38-cp38-linux_x86_64.whl\n",
        "\n",
        "\n",
        "\n",
        "# installing your model, this is pre-written with a link to the Anything V4.5 model\n",
        "!curl -Lo anything-v4.5-pruned-fp32.ckpt https://huggingface.co/andite/anything-v4.0/blob/main/anything-v4.5-pruned-fp32.ckpt\n",
        "\n",
        "# installing your VAE, this is pre-written with a link to the Anything V4.0 VAE\n",
        "!curl -Lo anything-v4.0.vae.pt https://huggingface.co/andite/anything-v4.0/blob/main/anything-v4.0.vae.pt\n",
        "\n",
        "# you can change these link and thier file names to anything as long as the file itself is linkable and publicly downloadable\n",
        "\n",
        "\n",
        "\n",
        "# !!! IMPORTANT !!! make sure to change the file names for these lines if you if you changed the model, vae, or both\n",
        "!mv \"/content/anything-v4.5-pruned-fp32.ckpt\" \"/content/stable-diffusion-webui/models/Stable-diffusion\"\n",
        "!mv \"/content/anything-v4.0.vae.pt\" \"/content/stable-diffusion-webui/models/Stable-diffusion\"\n",
        "\n",
        "# you can add in more models with these curl and mv commands if you so wish too!\n",
        "\n",
        "\n",
        "%cd /content/stable-diffusion-webui\n",
        "!git checkout 91c8d0d # temporary fix for gradio\n",
        "!COMMANDLINE_ARGS=\"--share --disable-safe-unpickle --no-half-vae --xformers --reinstall-xformers --enable-insecure-extension-access\" REQS_FILE=\"requirements.txt\" python launch.py"
      ]
    },
    {
      "cell_type": "markdown",
      "metadata": {
        "id": "KfCRSie6xHg2"
      },
      "source": [
        "After the Web-UI finishes launching, stop the cell and run the cell below. ❗❗❗ IT IS VERY IMPORTANT THAT THE WEBUI LAUNCHES BEFORE YOU STOP THE CELL, MAKE SURE TO OPEN THE GRADIO LINK TO ENSURE IT IS WORKING!!! ❗❗❗"
      ]
    },
    {
      "cell_type": "code",
      "execution_count": null,
      "metadata": {
        "id": "ANT3CuYsTYr8"
      },
      "outputs": [],
      "source": [
        "# removing stock config\n",
        "!rm /content/stable-diffusion-webui/ui-config.json\n",
        "!rm /content/stable-diffusion-webui/config.json\n",
        "\n",
        "# loading your google drive into instance\n",
        "from google.colab import drive\n",
        "drive.mount('/content/gdrive')\n",
        "\n",
        "# loading the new configs\n",
        "!cp \"/content/gdrive/MyDrive/for_webui_colab/ui-config.json\" \"/content/stable-diffusion-webui/\"\n",
        "!cp \"/content/gdrive/MyDrive/for_webui_colab/config.json\" \"/content/stable-diffusion-webui/\"\n",
        "\n",
        "!git checkout 91c8d0d # temporary fix for gradio\n",
        "\n",
        "# i don't suggest changing the commandline arguments unless you know what you are doing\n",
        "!COMMANDLINE_ARGS=\"--share --disable-safe-unpickle --no-half-vae --xformers --reinstall-xformers --enable-insecure-extension-access\" REQS_FILE=\"requirements.txt\" python launch.py\n"
      ]
    },
    {
      "cell_type": "markdown",
      "metadata": {
        "id": "k6eHARBYIFh8"
      },
      "source": [
        "Sampling sizes don't seem to save after changing the ui-option.json, I haven't figured this out yet but it may work for you. It may have to do with the fact i've only tested replacing the stock file here with the file from my own webui on my computer."
      ]
    }
  ],
  "metadata": {
    "accelerator": "GPU",
    "colab": {
      "provenance": []
    },
    "gpuClass": "standard",
    "kernelspec": {
      "display_name": "Python 3",
      "name": "python3"
    },
    "language_info": {
      "name": "python"
    }
  },
  "nbformat": 4,
  "nbformat_minor": 0
}
